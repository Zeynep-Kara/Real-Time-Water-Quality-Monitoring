{
 "cells": [
  {
   "cell_type": "code",
   "execution_count": 30,
   "metadata": {},
   "outputs": [],
   "source": [
    "import numpy as np\n",
    "import pandas as pd\n",
    "from sklearn.svm import SVR\n",
    "from sklearn.model_selection import train_test_split\n",
    "from sklearn.metrics import mean_squared_error, mean_absolute_error\n"
   ]
  },
  {
   "cell_type": "code",
   "execution_count": 31,
   "metadata": {},
   "outputs": [],
   "source": [
    "def get_Data(csv, iteration = False):\n",
    "    merged_dataset = pd.read_csv(csv)\n",
    "\n",
    "    if(iteration):\n",
    "        # merged_dataset = merged_dataset[merged_dataset[\"Iteration\"] == 0]\n",
    "        # merged_dataset = merged_dataset.drop(columns=[\"Type\"])\n",
    "        grouped_data = merged_dataset.groupby(['NaCl_ppm','MgSO4_ppm', \"Iteration\"])\n",
    "\n",
    "    else:\n",
    "        grouped_data = merged_dataset.groupby(['NaCl_ppm','MgSO4_ppm'])\n",
    "\n",
    "    # Create a dictionary to store grouped data\n",
    "    grouped_dict = {}\n",
    "    # Iterate over groups and populate the dictionary\n",
    "    for group_name, group_data in grouped_data:\n",
    "        # print(group_name)\n",
    "        tempDict = {}\n",
    "        tempDF = group_data.drop(columns=['Iteration','Time','NaCl_ppm','MgSO4_ppm'])\n",
    "        for col in tempDF.columns:\n",
    "            vectorizedCol = tempDF[col].values\n",
    "            tempDict[col] = vectorizedCol.copy()\n",
    "        grouped_dict[group_name] = tempDict\n",
    "\n",
    "    return grouped_dict"
   ]
  },
  {
   "cell_type": "code",
   "execution_count": 32,
   "metadata": {},
   "outputs": [],
   "source": [
    "# Flattens the data\n",
    "def arrangeData(dict):\n",
    "    compArr = []\n",
    "    for vals in list(dict.values()):\n",
    "        arr = []\n",
    "        for val in list(vals.values()):\n",
    "            arr.extend(val.copy() - np.array(val).mean())\n",
    "        compArr.append(arr.copy())\n",
    "    \n",
    "    return compArr\n"
   ]
  },
  {
   "cell_type": "code",
   "execution_count": 33,
   "metadata": {},
   "outputs": [],
   "source": [
    "def arrangeDataMultiColumn(dict,columns):\n",
    "    compArr = []\n",
    "    for vals in list(dict.values()):\n",
    "        arr = []\n",
    "        for col in columns:\n",
    "            arr.extend(vals[col].copy() - np.array(vals[col]).mean())\n",
    "        compArr.append(arr.copy())\n",
    "    \n",
    "    return compArr"
   ]
  },
  {
   "cell_type": "code",
   "execution_count": 34,
   "metadata": {},
   "outputs": [],
   "source": [
    "path = '../experiment_logs_UPDT/'\n",
    "file = 'merged_experiments_fixed_iter.csv'\n",
    "file_path = path + file\n",
    "grouped_dict = get_Data(file_path, iteration = True)\n",
    "\n"
   ]
  },
  {
   "cell_type": "code",
   "execution_count": 35,
   "metadata": {},
   "outputs": [
    {
     "name": "stdout",
     "output_type": "stream",
     "text": [
      "6354\n",
      "804\n"
     ]
    }
   ],
   "source": [
    "# Flattening the input features to shape (num_samples, 21 * 201)\n",
    "# num_samples = len(grouped_dict)\n",
    "# print(num_samples)\n",
    "X_flattened = arrangeDataMultiColumn(grouped_dict,[\"Ireal\", \"Iimag\",\"Vreal\", \"Vimag\"])  # shape will be (num_samples, 21*201)\n",
    "print(len(X_flattened))\n",
    "print(len(X_flattened[0]))"
   ]
  },
  {
   "cell_type": "code",
   "execution_count": 36,
   "metadata": {},
   "outputs": [],
   "source": [
    "X = X_flattened\n",
    "# X = np.array([[val for arr in list(vals.values()) for val in arr] ])\n",
    "\n",
    "# Adjust the labels y to include both nacl_ppm and mgso4_ppm\n",
    "y = [k[:2] for k in grouped_dict.keys()]\n",
    "\n"
   ]
  },
  {
   "cell_type": "code",
   "execution_count": 37,
   "metadata": {},
   "outputs": [],
   "source": [
    "from sklearn.model_selection import train_test_split\n",
    "\n",
    "# Split the data into training and testing sets\n",
    "X_train, X_test, y_train, y_test = train_test_split(X, y, test_size=0.1, random_state=42)"
   ]
  },
  {
   "cell_type": "code",
   "execution_count": 38,
   "metadata": {},
   "outputs": [
    {
     "data": {
      "text/html": [
       "<style>#sk-container-id-3 {color: black;}#sk-container-id-3 pre{padding: 0;}#sk-container-id-3 div.sk-toggleable {background-color: white;}#sk-container-id-3 label.sk-toggleable__label {cursor: pointer;display: block;width: 100%;margin-bottom: 0;padding: 0.3em;box-sizing: border-box;text-align: center;}#sk-container-id-3 label.sk-toggleable__label-arrow:before {content: \"▸\";float: left;margin-right: 0.25em;color: #696969;}#sk-container-id-3 label.sk-toggleable__label-arrow:hover:before {color: black;}#sk-container-id-3 div.sk-estimator:hover label.sk-toggleable__label-arrow:before {color: black;}#sk-container-id-3 div.sk-toggleable__content {max-height: 0;max-width: 0;overflow: hidden;text-align: left;background-color: #f0f8ff;}#sk-container-id-3 div.sk-toggleable__content pre {margin: 0.2em;color: black;border-radius: 0.25em;background-color: #f0f8ff;}#sk-container-id-3 input.sk-toggleable__control:checked~div.sk-toggleable__content {max-height: 200px;max-width: 100%;overflow: auto;}#sk-container-id-3 input.sk-toggleable__control:checked~label.sk-toggleable__label-arrow:before {content: \"▾\";}#sk-container-id-3 div.sk-estimator input.sk-toggleable__control:checked~label.sk-toggleable__label {background-color: #d4ebff;}#sk-container-id-3 div.sk-label input.sk-toggleable__control:checked~label.sk-toggleable__label {background-color: #d4ebff;}#sk-container-id-3 input.sk-hidden--visually {border: 0;clip: rect(1px 1px 1px 1px);clip: rect(1px, 1px, 1px, 1px);height: 1px;margin: -1px;overflow: hidden;padding: 0;position: absolute;width: 1px;}#sk-container-id-3 div.sk-estimator {font-family: monospace;background-color: #f0f8ff;border: 1px dotted black;border-radius: 0.25em;box-sizing: border-box;margin-bottom: 0.5em;}#sk-container-id-3 div.sk-estimator:hover {background-color: #d4ebff;}#sk-container-id-3 div.sk-parallel-item::after {content: \"\";width: 100%;border-bottom: 1px solid gray;flex-grow: 1;}#sk-container-id-3 div.sk-label:hover label.sk-toggleable__label {background-color: #d4ebff;}#sk-container-id-3 div.sk-serial::before {content: \"\";position: absolute;border-left: 1px solid gray;box-sizing: border-box;top: 0;bottom: 0;left: 50%;z-index: 0;}#sk-container-id-3 div.sk-serial {display: flex;flex-direction: column;align-items: center;background-color: white;padding-right: 0.2em;padding-left: 0.2em;position: relative;}#sk-container-id-3 div.sk-item {position: relative;z-index: 1;}#sk-container-id-3 div.sk-parallel {display: flex;align-items: stretch;justify-content: center;background-color: white;position: relative;}#sk-container-id-3 div.sk-item::before, #sk-container-id-3 div.sk-parallel-item::before {content: \"\";position: absolute;border-left: 1px solid gray;box-sizing: border-box;top: 0;bottom: 0;left: 50%;z-index: -1;}#sk-container-id-3 div.sk-parallel-item {display: flex;flex-direction: column;z-index: 1;position: relative;background-color: white;}#sk-container-id-3 div.sk-parallel-item:first-child::after {align-self: flex-end;width: 50%;}#sk-container-id-3 div.sk-parallel-item:last-child::after {align-self: flex-start;width: 50%;}#sk-container-id-3 div.sk-parallel-item:only-child::after {width: 0;}#sk-container-id-3 div.sk-dashed-wrapped {border: 1px dashed gray;margin: 0 0.4em 0.5em 0.4em;box-sizing: border-box;padding-bottom: 0.4em;background-color: white;}#sk-container-id-3 div.sk-label label {font-family: monospace;font-weight: bold;display: inline-block;line-height: 1.2em;}#sk-container-id-3 div.sk-label-container {text-align: center;}#sk-container-id-3 div.sk-container {/* jupyter's `normalize.less` sets `[hidden] { display: none; }` but bootstrap.min.css set `[hidden] { display: none !important; }` so we also need the `!important` here to be able to override the default hidden behavior on the sphinx rendered scikit-learn.org. See: https://github.com/scikit-learn/scikit-learn/issues/21755 */display: inline-block !important;position: relative;}#sk-container-id-3 div.sk-text-repr-fallback {display: none;}</style><div id=\"sk-container-id-3\" class=\"sk-top-container\"><div class=\"sk-text-repr-fallback\"><pre>SVR()</pre><b>In a Jupyter environment, please rerun this cell to show the HTML representation or trust the notebook. <br />On GitHub, the HTML representation is unable to render, please try loading this page with nbviewer.org.</b></div><div class=\"sk-container\" hidden><div class=\"sk-item\"><div class=\"sk-estimator sk-toggleable\"><input class=\"sk-toggleable__control sk-hidden--visually\" id=\"sk-estimator-id-3\" type=\"checkbox\" checked><label for=\"sk-estimator-id-3\" class=\"sk-toggleable__label sk-toggleable__label-arrow\">SVR</label><div class=\"sk-toggleable__content\"><pre>SVR()</pre></div></div></div></div></div>"
      ],
      "text/plain": [
       "SVR()"
      ]
     },
     "execution_count": 38,
     "metadata": {},
     "output_type": "execute_result"
    }
   ],
   "source": [
    "# Train separate SVR models for each target\n",
    "svr_nacl = SVR(kernel='rbf')  # Radial Basis Function kernel, commonly used for SVR\n",
    "svr_mgso4 = SVR(kernel='rbf')\n",
    "\n",
    "# Train the models\n",
    "svr_nacl.fit(np.array(X_train), np.array([y[0] for y in y_train]))  # Training for NaCl ppm\n",
    "svr_mgso4.fit(np.array(X_train), np.array([y[1] for y in y_train]))  # Training for MgSO4 ppm\n"
   ]
  },
  {
   "cell_type": "code",
   "execution_count": 43,
   "metadata": {},
   "outputs": [],
   "source": [
    "# # Predict on the test set\n",
    "# y_pred_nacl = svr_nacl.predict(X_test)\n",
    "# y_pred_mgso4 = svr_mgso4.predict(X_test)\n",
    "\n",
    "# # Combine predictions into a single array\n",
    "# y_pred = np.vstack((y_pred_nacl, y_pred_mgso4)).T\n",
    "\n",
    "from sklearn.model_selection import GridSearchCV\n",
    "\n",
    "param_grid = {\n",
    "    'C': [0.1, 1, 10, 100],\n",
    "    'epsilon': [0.01, 0.1, 1],\n",
    "    'gamma': ['scale', 'auto']\n",
    "}\n",
    "\n",
    "# Grid Search for NaCl\n",
    "svr_nacl = SVR(kernel='rbf')\n",
    "grid_search_nacl = GridSearchCV(svr_nacl, param_grid, cv=5, scoring='neg_mean_squared_error')\n",
    "grid_search_nacl.fit(X_train, np.array([y[0] for y in y_train]))\n",
    "best_svr_nacl = grid_search_nacl.best_estimator_\n",
    "\n",
    "# Grid Search for MgSO4\n",
    "svr_mgso4 = SVR(kernel='rbf')\n",
    "grid_search_mgso4 = GridSearchCV(svr_mgso4, param_grid, cv=5, scoring='neg_mean_squared_error')\n",
    "grid_search_mgso4.fit(X_train, np.array([y[1] for y in y_train]))\n",
    "best_svr_mgso4 = grid_search_mgso4.best_estimator_"
   ]
  },
  {
   "cell_type": "code",
   "execution_count": 45,
   "metadata": {},
   "outputs": [],
   "source": [
    "# Predict on the test set\n",
    "y_pred_nacl = best_svr_nacl.predict(X_test)\n",
    "y_pred_mgso4 = best_svr_mgso4.predict(X_test)\n",
    "\n",
    "# Combine predictions into a single array\n",
    "y_pred = np.vstack((y_pred_nacl, y_pred_mgso4)).T"
   ]
  },
  {
   "cell_type": "code",
   "execution_count": 40,
   "metadata": {},
   "outputs": [
    {
     "data": {
      "text/plain": [
       "636"
      ]
     },
     "execution_count": 40,
     "metadata": {},
     "output_type": "execute_result"
    }
   ],
   "source": [
    "len(y_test)"
   ]
  },
  {
   "cell_type": "code",
   "execution_count": 46,
   "metadata": {},
   "outputs": [
    {
     "name": "stdout",
     "output_type": "stream",
     "text": [
      "NaCl - Mean Squared Error: 6226594.974878078, Mean Absolute Error: 1704.636217123388\n",
      "MgSO4 - Mean Squared Error: 27112207.290460117, Mean Absolute Error: 3651.572724713985\n"
     ]
    }
   ],
   "source": [
    "# Compute performance metrics for NaCl\n",
    "mse_nacl = mean_squared_error(np.array([y[0] for y in y_test]), np.array(y_pred_nacl))\n",
    "mae_nacl = mean_absolute_error(np.array([y[0] for y in y_test]), np.array(y_pred_nacl))\n",
    "\n",
    "# Compute performance metrics for MgSO4\n",
    "mse_mgso4 = mean_squared_error(np.array([y[1] for y in y_test]), np.array(y_pred_mgso4))\n",
    "mae_mgso4 = mean_absolute_error(np.array([y[1] for y in y_test]), np.array(y_pred_mgso4))\n",
    "\n",
    "print(f\"NaCl - Mean Squared Error: {mse_nacl}, Mean Absolute Error: {mae_nacl}\")\n",
    "print(f\"MgSO4 - Mean Squared Error: {mse_mgso4}, Mean Absolute Error: {mae_mgso4}\")\n"
   ]
  }
 ],
 "metadata": {
  "kernelspec": {
   "display_name": "cortex",
   "language": "python",
   "name": "python3"
  },
  "language_info": {
   "codemirror_mode": {
    "name": "ipython",
    "version": 3
   },
   "file_extension": ".py",
   "mimetype": "text/x-python",
   "name": "python",
   "nbconvert_exporter": "python",
   "pygments_lexer": "ipython3",
   "version": "3.12.0"
  }
 },
 "nbformat": 4,
 "nbformat_minor": 2
}
