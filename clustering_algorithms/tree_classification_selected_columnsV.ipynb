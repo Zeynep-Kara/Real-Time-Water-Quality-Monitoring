{
 "cells": [
  {
   "cell_type": "code",
   "execution_count": 1,
   "metadata": {},
   "outputs": [],
   "source": [
    "import pandas as pd\n",
    "import numpy as np\n",
    "from sklearn.ensemble import RandomForestRegressor\n",
    "from sklearn.model_selection import train_test_split, cross_val_score\n",
    "from sklearn.metrics import classification_report, accuracy_score, mean_squared_error, r2_score\n",
    "from sklearn.preprocessing import StandardScaler\n",
    "from sklearn.model_selection import KFold\n",
    "import glob\n",
    "import re"
   ]
  },
  {
   "cell_type": "code",
   "execution_count": 2,
   "metadata": {},
   "outputs": [],
   "source": [
    "def get_Data(csv, iteration = False):\n",
    "    merged_dataset = pd.read_csv(csv)\n",
    "\n",
    "    if(iteration):\n",
    "        # merged_dataset = merged_dataset[merged_dataset[\"Iteration\"] == 0]\n",
    "        # merged_dataset = merged_dataset.drop(columns=[\"Type\"])\n",
    "        grouped_data = merged_dataset.groupby(['NaCl_ppm','MgSO4_ppm', \"Iteration\"])\n",
    "\n",
    "    else:\n",
    "        grouped_data = merged_dataset.groupby(['NaCl_ppm','MgSO4_ppm'])\n",
    "\n",
    "    # Create a dictionary to store grouped data\n",
    "    grouped_dict = {}\n",
    "    # Iterate over groups and populate the dictionary\n",
    "    for group_name, group_data in grouped_data:\n",
    "        # print(group_name)\n",
    "        tempDict = {}\n",
    "        tempDF = group_data.drop(columns=['Iteration','Time','NaCl_ppm','MgSO4_ppm'])\n",
    "        for col in tempDF.columns:\n",
    "            vectorizedCol = tempDF[col].values\n",
    "            tempDict[col] = vectorizedCol.copy()\n",
    "        grouped_dict[group_name] = tempDict\n",
    "\n",
    "    return grouped_dict\n",
    "\n"
   ]
  },
  {
   "cell_type": "code",
   "execution_count": 3,
   "metadata": {},
   "outputs": [],
   "source": [
    "path = '../experiment_logs_UPDT/'\n",
    "file = 'merged_experiments_fixed_iter_removed_q.csv'\n",
    "file_path = path + file\n",
    "grouped_dict = get_Data(file_path, iteration = True)\n"
   ]
  },
  {
   "cell_type": "code",
   "execution_count": 4,
   "metadata": {},
   "outputs": [],
   "source": [
    "columns = pd.read_csv(file_path).columns\n"
   ]
  },
  {
   "cell_type": "code",
   "execution_count": 5,
   "metadata": {},
   "outputs": [],
   "source": [
    "# Flattens the data\n",
    "def arrangeData(dict):\n",
    "    compArr = []\n",
    "    for vals in list(dict.values()):\n",
    "        arr = []\n",
    "        for val in list(vals.values()):\n",
    "            arr.extend(val.copy() - np.array(val).mean())\n",
    "        compArr.append(arr.copy())\n",
    "    \n",
    "    return compArr\n",
    "\n"
   ]
  },
  {
   "cell_type": "code",
   "execution_count": 6,
   "metadata": {},
   "outputs": [],
   "source": [
    "compArr = arrangeData(grouped_dict)"
   ]
  },
  {
   "cell_type": "code",
   "execution_count": 7,
   "metadata": {},
   "outputs": [],
   "source": [
    "X = compArr\n",
    "# X = np.array([[val for arr in list(vals.values()) for val in arr] ])\n",
    "\n",
    "# Adjust the labels y to include both nacl_ppm and mgso4_ppm\n",
    "y = [k[:2] for k in grouped_dict.keys()]\n",
    "\n"
   ]
  },
  {
   "cell_type": "code",
   "execution_count": 8,
   "metadata": {},
   "outputs": [],
   "source": [
    "\n",
    "np.random.seed(0)\n",
    "\n",
    "def kfold_train(X, y, n_splits=5):\n",
    "    kf = KFold(n_splits=n_splits, shuffle=True, random_state=np.random.randint(0, 100))\n",
    "    models = []\n",
    "    scores = []\n",
    "\n",
    "    for train_index, test_index in kf.split(X):\n",
    "        print(f\"Running iteration {len(scores)}\", end=\"\\r\")\n",
    "        X_train, X_test = X[train_index], X[test_index]\n",
    "        y_train, y_test = y[train_index], y[test_index]\n",
    "\n",
    "        regressor = RandomForestRegressor(n_estimators=100, random_state=np.random.randint(0, 100))\n",
    "        regressor.fit(X_train, y_train)\n",
    "\n",
    "        y_pred = regressor.predict(X_test)\n",
    "        error_t = (np.abs(y_test - y_pred)).mean(axis=0)\n",
    "        y_pred_nacl = np.array([k[0] for k in y_pred])\n",
    "        y_pred_mgso4 = np.array([k[1] for k in y_pred])\n",
    "        y_test_nacl = np.array([k[0] for k in y_test])\n",
    "        y_test_mgso4 = np.array([k[1] for k in y_test])\n",
    "        salt_mse_t = mean_squared_error(y_test_nacl, y_pred_nacl)\n",
    "        mgso_mse_t = mean_squared_error(y_test_mgso4, y_pred_mgso4)\n",
    "        r2_nacl = r2_score(y_test_nacl, y_pred_nacl)\n",
    "        re_mgso4 = r2_score(y_test_mgso4, y_pred_mgso4)\n",
    "        scores.append({\"Mean Error\":error_t, \"Salt MSE\":salt_mse_t, \"MgSO4 MSE\":mgso_mse_t, \"R^2 Salt\":r2_nacl, \"R^2 MgSO4\":re_mgso4})\n",
    "        models.append(regressor)\n",
    "    scores = pd.DataFrame(scores)\n",
    "    print(f\"Kfold completed.                             \")\n",
    "    return models, scores\n",
    "\n"
   ]
  },
  {
   "cell_type": "code",
   "execution_count": 9,
   "metadata": {},
   "outputs": [],
   "source": [
    "def kfold_train_single_y(X, y, n_splits=5):\n",
    "    kf = KFold(n_splits=n_splits, shuffle=True, random_state=np.random.randint(0, 100))\n",
    "    models = []\n",
    "    scores = []\n",
    "\n",
    "    for train_index, test_index in kf.split(X):\n",
    "        print(f\"Running iteration {len(scores)}\", end=\"\\r\")\n",
    "        X_train, X_test = X[train_index], X[test_index]\n",
    "        y_train, y_test = y[train_index], y[test_index]\n",
    "\n",
    "        regressor = RandomForestRegressor(n_estimators=100, random_state=np.random.randint(0, 100))\n",
    "        regressor.fit(X_train, y_train)\n",
    "\n",
    "        y_pred = regressor.predict(X_test)\n",
    "        error_t = (np.abs(y_test - y_pred)).mean(axis=0)\n",
    "        mse_t = mean_squared_error(y_test, y_pred)\n",
    "        r2 = r2_score(y_test, y_pred)\n",
    "        scores.append({\"Mean Error\":error_t, \"MSE\":mse_t, \"R^2\":r2})\n",
    "        models.append(regressor)\n",
    "    scores = pd.DataFrame(scores)\n",
    "    print(f\"Kfold completed.                             \")\n",
    "    return models, scores"
   ]
  },
  {
   "cell_type": "code",
   "execution_count": 10,
   "metadata": {},
   "outputs": [],
   "source": [
    "def arrangeDataMultiColumn(dict,columns):\n",
    "    compArr = []\n",
    "    for vals in list(dict.values()):\n",
    "        arr = []\n",
    "        for col in columns:\n",
    "            arr.extend(vals[col].copy() - np.array(vals[col]).mean())\n",
    "        compArr.append(arr.copy())\n",
    "    \n",
    "    return compArr"
   ]
  },
  {
   "cell_type": "code",
   "execution_count": 11,
   "metadata": {},
   "outputs": [
    {
     "name": "stdout",
     "output_type": "stream",
     "text": [
      "Kfold completed.                             \n"
     ]
    }
   ],
   "source": [
    "#both\n",
    "selected_column_X = arrangeDataMultiColumn(grouped_dict,[\"Ireal\", \"Iimag\",\"Vreal\", \"Vimag\"])\n",
    "models_both ,score_both = kfold_train(np.array(selected_column_X), np.array(y), n_splits=5)"
   ]
  },
  {
   "cell_type": "code",
   "execution_count": 12,
   "metadata": {},
   "outputs": [],
   "source": [
    "score_both.to_csv(\"Results/bothV.csv\")"
   ]
  },
  {
   "cell_type": "code",
   "execution_count": 22,
   "metadata": {},
   "outputs": [
    {
     "name": "stdout",
     "output_type": "stream",
     "text": [
      "[ 55.42257457 119.57492993]\n",
      "0.9985207779947544\n",
      "0.993187099959723\n"
     ]
    }
   ],
   "source": [
    "print(score_both[\"Mean Error\"].mean())\n",
    "print(score_both[\"R^2 Salt\"].mean())\n",
    "print(score_both[\"R^2 MgSO4\"].mean())"
   ]
  },
  {
   "cell_type": "code",
   "execution_count": 13,
   "metadata": {},
   "outputs": [
    {
     "name": "stdout",
     "output_type": "stream",
     "text": [
      "Kfold completed.                             \n"
     ]
    }
   ],
   "source": [
    "#only salt no mgso4 4 only Impedace, phase, resistance, conductance\n",
    "selected_column_X = arrangeDataMultiColumn(grouped_dict,[\"Ireal\", \"Iimag\",\"Vreal\", \"Vimag\"])\n",
    "models_only_salt ,score_only_salt = kfold_train_single_y(np.array(selected_column_X), np.array([k[0] for k in y]), n_splits=5)"
   ]
  },
  {
   "cell_type": "code",
   "execution_count": 14,
   "metadata": {},
   "outputs": [],
   "source": [
    "score_only_salt.to_csv(\"Results/only_NaCl_V.csv\")"
   ]
  },
  {
   "cell_type": "code",
   "execution_count": 25,
   "metadata": {},
   "outputs": [
    {
     "data": {
      "text/plain": [
       "Mean Error       63.746908\n",
       "MSE           69186.744206\n",
       "R^2               0.998154\n",
       "dtype: float64"
      ]
     },
     "execution_count": 25,
     "metadata": {},
     "output_type": "execute_result"
    }
   ],
   "source": [
    "score_only_salt.mean()"
   ]
  },
  {
   "cell_type": "code",
   "execution_count": 15,
   "metadata": {},
   "outputs": [
    {
     "name": "stdout",
     "output_type": "stream",
     "text": [
      "Kfold completed.                             \n"
     ]
    }
   ],
   "source": [
    "#only salt no mgso4 4 only Impedace, phase, resistance, conductance\n",
    "selected_column_X = arrangeDataMultiColumn(grouped_dict,[\"Ireal\", \"Iimag\",\"Vreal\", \"Vimag\"])\n",
    "models_only_mg ,score_only_mg = kfold_train_single_y(np.array(selected_column_X), np.array([k[1] for k in y]), n_splits=5)"
   ]
  },
  {
   "cell_type": "code",
   "execution_count": 16,
   "metadata": {},
   "outputs": [],
   "source": [
    "score_only_mg.to_csv(\"Results/only_MgSO4_V.csv\")"
   ]
  },
  {
   "cell_type": "code",
   "execution_count": 26,
   "metadata": {},
   "outputs": [
    {
     "data": {
      "text/plain": [
       "Mean Error       136.932213\n",
       "MSE           499229.138777\n",
       "R^2                0.985509\n",
       "dtype: float64"
      ]
     },
     "execution_count": 26,
     "metadata": {},
     "output_type": "execute_result"
    }
   ],
   "source": [
    "score_only_mg.mean()"
   ]
  },
  {
   "cell_type": "code",
   "execution_count": 17,
   "metadata": {},
   "outputs": [
    {
     "name": "stdout",
     "output_type": "stream",
     "text": [
      "Kfold completed.                             \n"
     ]
    }
   ],
   "source": [
    "#only salt given mgso4 4 only Impedace, phase, resistance, conductance\n",
    "selected_column_X = arrangeDataMultiColumn(grouped_dict,[\"Ireal\", \"Iimag\",\"Vreal\", \"Vimag\"])\n",
    "for i in range(len(selected_column_X)):\n",
    "    selected_column_X[i].append(y[i][1])\n",
    "models_nacl ,score_nacl = kfold_train_single_y(np.array(selected_column_X), np.array([k[0] for k in y]), n_splits=5)"
   ]
  },
  {
   "cell_type": "code",
   "execution_count": 18,
   "metadata": {},
   "outputs": [],
   "source": [
    "score_nacl.to_csv(\"Results/NaCl_V.csv\")"
   ]
  },
  {
   "cell_type": "code",
   "execution_count": 23,
   "metadata": {},
   "outputs": [
    {
     "data": {
      "text/plain": [
       "Mean Error       44.832370\n",
       "MSE           51175.831156\n",
       "R^2               0.998632\n",
       "dtype: float64"
      ]
     },
     "execution_count": 23,
     "metadata": {},
     "output_type": "execute_result"
    }
   ],
   "source": [
    "score_nacl.mean()"
   ]
  },
  {
   "cell_type": "code",
   "execution_count": 19,
   "metadata": {},
   "outputs": [
    {
     "name": "stdout",
     "output_type": "stream",
     "text": [
      "Kfold completed.                             \n"
     ]
    }
   ],
   "source": [
    "#only mgso4 given nacl 4 only Impedace, phase, resistance, conductance\n",
    "selected_column_X = arrangeDataMultiColumn(grouped_dict,[\"Ireal\", \"Iimag\",\"Vreal\", \"Vimag\"])\n",
    "for i in range(len(selected_column_X)):\n",
    "    selected_column_X[i].append(y[i][0])\n",
    "models_mg ,score_mg = kfold_train_single_y(np.array(selected_column_X), np.array([k[1] for k in y]), n_splits=5)"
   ]
  },
  {
   "cell_type": "code",
   "execution_count": 20,
   "metadata": {},
   "outputs": [],
   "source": [
    "score_mg.to_csv(\"Results/MgSO4_V.csv\")"
   ]
  },
  {
   "cell_type": "code",
   "execution_count": 24,
   "metadata": {},
   "outputs": [
    {
     "data": {
      "text/plain": [
       "Mean Error       114.762813\n",
       "MSE           421900.935401\n",
       "R^2                0.987874\n",
       "dtype: float64"
      ]
     },
     "execution_count": 24,
     "metadata": {},
     "output_type": "execute_result"
    }
   ],
   "source": [
    "score_mg.mean()"
   ]
  }
 ],
 "metadata": {
  "kernelspec": {
   "display_name": "cortex",
   "language": "python",
   "name": "python3"
  },
  "language_info": {
   "codemirror_mode": {
    "name": "ipython",
    "version": 3
   },
   "file_extension": ".py",
   "mimetype": "text/x-python",
   "name": "python",
   "nbconvert_exporter": "python",
   "pygments_lexer": "ipython3",
   "version": "3.12.0"
  }
 },
 "nbformat": 4,
 "nbformat_minor": 2
}
