{
 "cells": [
  {
   "cell_type": "code",
   "execution_count": 1,
   "metadata": {},
   "outputs": [],
   "source": [
    "import pandas as pd\n",
    "import numpy as np\n",
    "from sklearn.ensemble import RandomForestRegressor\n",
    "from sklearn.model_selection import train_test_split, cross_val_score\n",
    "from sklearn.metrics import classification_report, accuracy_score, mean_squared_error, r2_score\n",
    "from sklearn.preprocessing import StandardScaler\n",
    "from sklearn.model_selection import KFold\n",
    "import glob\n",
    "import re"
   ]
  },
  {
   "cell_type": "code",
   "execution_count": 2,
   "metadata": {},
   "outputs": [],
   "source": [
    "def get_Data(csv, iteration = False):\n",
    "    merged_dataset = pd.read_csv(csv)\n",
    "\n",
    "    if(iteration):\n",
    "        # merged_dataset = merged_dataset[merged_dataset[\"Iteration\"] == 0]\n",
    "        # merged_dataset = merged_dataset.drop(columns=[\"Type\"])\n",
    "        grouped_data = merged_dataset.groupby(['NaCl_ppm','MgSO4_ppm', \"Iteration\"])\n",
    "\n",
    "    else:\n",
    "        grouped_data = merged_dataset.groupby(['NaCl_ppm','MgSO4_ppm'])\n",
    "\n",
    "    # Create a dictionary to store grouped data\n",
    "    grouped_dict = {}\n",
    "    # Iterate over groups and populate the dictionary\n",
    "    for group_name, group_data in grouped_data:\n",
    "        # print(group_name)\n",
    "        tempDict = {}\n",
    "        tempDF = group_data.drop(columns=['Iteration','Time','NaCl_ppm','MgSO4_ppm'])\n",
    "        for col in tempDF.columns:\n",
    "            vectorizedCol = tempDF[col].values\n",
    "            tempDict[col] = vectorizedCol.copy()\n",
    "        grouped_dict[group_name] = tempDict\n",
    "\n",
    "    return grouped_dict\n",
    "\n"
   ]
  },
  {
   "cell_type": "code",
   "execution_count": 3,
   "metadata": {},
   "outputs": [],
   "source": [
    "path = '../experiment_logs_UPDT/'\n",
    "file = 'merged_experiments_fixed_iter_removed_q.csv'\n",
    "file_path = path + file\n",
    "grouped_dict = get_Data(file_path, iteration = True)\n"
   ]
  },
  {
   "cell_type": "code",
   "execution_count": 4,
   "metadata": {},
   "outputs": [],
   "source": [
    "columns = pd.read_csv(file_path).columns\n"
   ]
  },
  {
   "cell_type": "code",
   "execution_count": 5,
   "metadata": {},
   "outputs": [],
   "source": [
    "# Flattens the data\n",
    "def arrangeData(dict):\n",
    "    compArr = []\n",
    "    for vals in list(dict.values()):\n",
    "        arr = []\n",
    "        for val in list(vals.values()):\n",
    "            arr.extend(val.copy() - np.array(val).mean())\n",
    "        compArr.append(arr.copy())\n",
    "    \n",
    "    return compArr\n",
    "\n"
   ]
  },
  {
   "cell_type": "code",
   "execution_count": 6,
   "metadata": {},
   "outputs": [],
   "source": [
    "compArr = arrangeData(grouped_dict)"
   ]
  },
  {
   "cell_type": "code",
   "execution_count": 7,
   "metadata": {},
   "outputs": [],
   "source": [
    "X = compArr\n",
    "# X = np.array([[val for arr in list(vals.values()) for val in arr] ])\n",
    "\n",
    "# Adjust the labels y to include both nacl_ppm and mgso4_ppm\n",
    "y = [k[:2] for k in grouped_dict.keys()]\n",
    "\n"
   ]
  },
  {
   "cell_type": "code",
   "execution_count": 8,
   "metadata": {},
   "outputs": [],
   "source": [
    "\n",
    "np.random.seed(0)\n",
    "\n",
    "def kfold_train(X, y, n_splits=5):\n",
    "    kf = KFold(n_splits=n_splits, shuffle=True, random_state=np.random.randint(0, 100))\n",
    "    models = []\n",
    "    scores = []\n",
    "\n",
    "    for train_index, test_index in kf.split(X):\n",
    "        print(f\"Running iteration {len(scores)}\", end=\"\\r\")\n",
    "        X_train, X_test = X[train_index], X[test_index]\n",
    "        y_train, y_test = y[train_index], y[test_index]\n",
    "\n",
    "        regressor = RandomForestRegressor(n_estimators=100, random_state=np.random.randint(0, 100))\n",
    "        regressor.fit(X_train, y_train)\n",
    "\n",
    "        y_pred = regressor.predict(X_test)\n",
    "        error_t = (np.abs(y_test - y_pred)).mean(axis=0)\n",
    "        y_pred_nacl = np.array([k[0] for k in y_pred])\n",
    "        y_pred_mgso4 = np.array([k[1] for k in y_pred])\n",
    "        y_test_nacl = np.array([k[0] for k in y_test])\n",
    "        y_test_mgso4 = np.array([k[1] for k in y_test])\n",
    "        salt_mse_t = mean_squared_error(y_test_nacl, y_pred_nacl)\n",
    "        mgso_mse_t = mean_squared_error(y_test_mgso4, y_pred_mgso4)\n",
    "        r2_nacl = r2_score(y_test_nacl, y_pred_nacl)\n",
    "        re_mgso4 = r2_score(y_test_mgso4, y_pred_mgso4)\n",
    "        scores.append({\"Mean Error\":error_t, \"Salt MSE\":salt_mse_t, \"MgSO4 MSE\":mgso_mse_t, \"R^2 Salt\":r2_nacl, \"R^2 MgSO4\":re_mgso4})\n",
    "        models.append(regressor)\n",
    "    scores = pd.DataFrame(scores)\n",
    "    print(f\"Kfold completed.                             \")\n",
    "    return models, scores\n",
    "\n"
   ]
  },
  {
   "cell_type": "code",
   "execution_count": 9,
   "metadata": {},
   "outputs": [],
   "source": [
    "def kfold_train_single_y(X, y, n_splits=5):\n",
    "    kf = KFold(n_splits=n_splits, shuffle=True, random_state=np.random.randint(0, 100))\n",
    "    models = []\n",
    "    scores = []\n",
    "\n",
    "    for train_index, test_index in kf.split(X):\n",
    "        print(f\"Running iteration {len(scores)}\", end=\"\\r\")\n",
    "        X_train, X_test = X[train_index], X[test_index]\n",
    "        y_train, y_test = y[train_index], y[test_index]\n",
    "\n",
    "        regressor = RandomForestRegressor(n_estimators=100, random_state=np.random.randint(0, 100))\n",
    "        regressor.fit(X_train, y_train)\n",
    "\n",
    "        y_pred = regressor.predict(X_test)\n",
    "        error_t = (np.abs(y_test - y_pred)).mean(axis=0)\n",
    "        mse_t = mean_squared_error(y_test, y_pred)\n",
    "        r2 = r2_score(y_test, y_pred)\n",
    "        scores.append({\"Mean Error\":error_t, \"MSE\":mse_t, \"R^2\":r2})\n",
    "        models.append(regressor)\n",
    "    scores = pd.DataFrame(scores)\n",
    "    print(f\"Kfold completed.                             \")\n",
    "    return models, scores"
   ]
  },
  {
   "cell_type": "code",
   "execution_count": 10,
   "metadata": {},
   "outputs": [],
   "source": [
    "def arrangeDataSingleColumn(dict,column):\n",
    "    compArr = []\n",
    "    for vals in list(dict.values()):\n",
    "        compArr.append(vals[column] - np.array(vals[column]).mean())\n",
    "    \n",
    "    return compArr"
   ]
  },
  {
   "cell_type": "code",
   "execution_count": 11,
   "metadata": {},
   "outputs": [
    {
     "name": "stdout",
     "output_type": "stream",
     "text": [
      "Kfold completed.                                \n",
      "Kfold completed.                                \n",
      "Kfold completed.                                     \n",
      "Kfold completed.                                 \n",
      "Kfold completed.                                \n",
      "Kfold completed.                                 \n",
      "Kfold completed.                                      \n",
      "Kfold completed.                                  \n",
      "Kfold completed.                                   \n",
      "Kfold completed.                                         \n",
      "Kfold completed.                                           \n",
      "Kfold completed.                                        \n",
      "Kfold completed.                                          \n",
      "Kfold completed.                                   \n",
      "Kfold completed.                             \n",
      "Kfold completed.                             \n",
      "Kfold completed.                             \n",
      "Kfold completed.                             \n",
      "Kfold completed.                             \n",
      "Kfold completed.                             \n",
      "-- Process Complete --                                             \r"
     ]
    }
   ],
   "source": [
    "resultDict = {}\n",
    "\n",
    "for i, column in enumerate(columns):\n",
    "    print(f\"Processing {column} -- {i}/{len(columns)}                    \", end = '\\r')\n",
    "    if column == 'NaCl_ppm' or column == 'MgSO4_ppm' or column == 'Iteration' or column == 'Time':\n",
    "        continue\n",
    "    selected_column_X = arrangeDataSingleColumn(grouped_dict,column)\n",
    "    np.random.seed(0)\n",
    "    models, score = kfold_train(np.array(selected_column_X), np.array(y), n_splits=5)\n",
    "    \n",
    "\n",
    "    resultDict[column] = {'models': models, 'score': score}\n",
    "\n",
    "resultDict = pd.DataFrame(resultDict)\n",
    "resultDict.to_csv(\"single_columns.csv\")\n",
    "    \n",
    "print(f\"-- Process Complete --                                             \", end = '\\r')"
   ]
  },
  {
   "cell_type": "code",
   "execution_count": null,
   "metadata": {},
   "outputs": [],
   "source": [
    "resultDict  resultDict.to_dict()"
   ]
  },
  {
   "cell_type": "code",
   "execution_count": 23,
   "metadata": {},
   "outputs": [
    {
     "name": "stdout",
     "output_type": "stream",
     "text": [
      "Hz: [5390.37800837 5096.56124719]\n",
      "Impedance: [122.76573401 272.20993879]\n",
      "ImpedancePhase: [194.19722668 340.40992859]\n",
      "Resistance: [147.96691661 273.33666038]\n",
      "Reactance: [117.57432235 239.14411288]\n",
      "Admittance: [136.86848576 329.33434891]\n",
      "AdmittancePhase: [193.98554162 342.78450431]\n",
      "Conductance: [133.27552012 324.13849558]\n",
      "Susceptance: [191.53790457 577.68555302]\n",
      "SeriesCapacitance: [ 885.66419246 1363.10980881]\n",
      "ParallelCapacitance: [5390.37800837 5096.56124719]\n",
      "SeriesInductance: [156.88953854 255.03203756]\n",
      "ParallelInductance: [ 508.46146465 1209.0362339 ]\n",
      "Dissipation: [1144.78314796 2018.29590235]\n",
      "Vrms: [157.47094017 344.03157293]\n",
      "Vreal: [183.53145477 396.7782606 ]\n",
      "Vimag: [ 95.39773971 229.00717319]\n",
      "Irms: [1518.05786509 2773.33871976]\n",
      "Ireal: [ 77.58177868 176.03360676]\n",
      "Iimag: [193.95332784 355.97422545]\n"
     ]
    }
   ],
   "source": [
    "for key in resultDict.keys():\n",
    "    # nacl_scores = np.array([k[0] for k in resultDict[key]['score']])\n",
    "    # mgso_scores = np.array([k[1] for k in resultDict[key]['score']])\n",
    "    # print(f\"NaCl: {nacl_scores.mean()} -- MgSO4: {mgso_scores.mean()}\")\n",
    "    df = pd.DataFrame(resultDict[key]['score'])\n",
    "    print(f\"{key}: {df[\"Mean Error\"].mean()}\")"
   ]
  }
 ],
 "metadata": {
  "kernelspec": {
   "display_name": "cortex",
   "language": "python",
   "name": "python3"
  },
  "language_info": {
   "codemirror_mode": {
    "name": "ipython",
    "version": 3
   },
   "file_extension": ".py",
   "mimetype": "text/x-python",
   "name": "python",
   "nbconvert_exporter": "python",
   "pygments_lexer": "ipython3",
   "version": "3.12.0"
  }
 },
 "nbformat": 4,
 "nbformat_minor": 2
}
