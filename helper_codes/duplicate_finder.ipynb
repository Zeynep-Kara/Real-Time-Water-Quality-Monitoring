{
 "cells": [
  {
   "cell_type": "code",
   "execution_count": 14,
   "metadata": {},
   "outputs": [
    {
     "name": "stdout",
     "output_type": "stream",
     "text": [
      "ITERATION -- NaCl_ppm -- MgSO4_ppm\n",
      "0 -- 0.0 -- 0.0\n",
      "771 -- 15000.0 -- 0.0\n",
      "772 -- 0.0 -- 0.0\n",
      "2076 -- 0.0 -- 0.0\n",
      "4047 -- 15000.0 -- 0.0\n",
      "5662 -- 14999.9 -- 14999.9\n",
      "6353 -- 14999.9 -- 14999.9\n"
     ]
    }
   ],
   "source": [
    "import pandas as pd\n",
    "\n",
    "\n",
    "path = '../experiment_logs_UPDT/'\n",
    "file = 'merged_experiments_fixed_iter_removed_q.csv'\n",
    "file_path = path + file\n",
    "# Load the CSV file into a DataFrame\n",
    "df = pd.read_csv(file_path)\n",
    "df = df[df[\"Hz\"] == 1000]\n",
    "# Initialize a list to hold the rows that meet the criteria\n",
    "matching_rows = []\n",
    "df_len = len(df)\n",
    "# Iterate through each row in the DataFrame\n",
    "for index, row in df.iterrows():\n",
    "    print(f'{index}/{df_len}', end='\\r')\n",
    "    # Check if there is any other row with the same values in col1 and col2\n",
    "    matching_condition = df[(df['NaCl_ppm'] == row['NaCl_ppm']) & (df['MgSO4_ppm'] == row['MgSO4_ppm']) & (df.index != index)]\n",
    "    \n",
    "    # If such rows exist, add the current row to the matching_rows list\n",
    "    if not matching_condition.empty:\n",
    "        matching_rows.append(row)\n",
    "\n",
    "# Convert the list of matching rows back into a DataFrame\n",
    "matching_df = pd.DataFrame(matching_rows)\n",
    "\n",
    "print(f\"ITERATION -- NaCl_ppm -- MgSO4_ppm\")\n",
    "for index, row in matching_df.iterrows():\n",
    "    print(f\"{row[\"Iteration\"]} -- {row[\"NaCl_ppm\"]} -- {row[\"MgSO4_ppm\"]}\")"
   ]
  }
 ],
 "metadata": {
  "kernelspec": {
   "display_name": "cortex",
   "language": "python",
   "name": "python3"
  },
  "language_info": {
   "codemirror_mode": {
    "name": "ipython",
    "version": 3
   },
   "file_extension": ".py",
   "mimetype": "text/x-python",
   "name": "python",
   "nbconvert_exporter": "python",
   "pygments_lexer": "ipython3",
   "version": "3.12.0"
  }
 },
 "nbformat": 4,
 "nbformat_minor": 2
}
